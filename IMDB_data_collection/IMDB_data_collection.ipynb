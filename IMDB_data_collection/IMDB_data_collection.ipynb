{
 "cells": [
  {
   "cell_type": "code",
   "execution_count": 675,
   "metadata": {},
   "outputs": [],
   "source": [
    "import bs4\n",
    "from bs4 import BeautifulSoup\n",
    "import csv\n",
    "import requests\n",
    "import time\n",
    "import pandas as pd\n",
    "import urllib\n",
    "import re\n",
    "import pickle\n",
    "import numpy as np\n",
    "import time"
   ]
  },
  {
   "cell_type": "raw",
   "metadata": {},
   "source": [
    "https://www.imdb.com/search/title/?release_date=2017&sort=num_votes,desc&page=2&ref_=adv_nxt  \n",
    "\n",
    "The name of the movie.\n",
    "The year of release.\n",
    "The IMDB rating.\n",
    "The Metascore.\n",
    "The number of votes."
   ]
  },
  {
   "cell_type": "code",
   "execution_count": 676,
   "metadata": {},
   "outputs": [],
   "source": [
    "url = 'https://www.imdb.com/search/title/?release_date=2017&sort=num_votes,desc&page=2&ref_=adv_nxt'\n",
    "request = requests.request('GET', url, headers = {\"Accept-Language\": \"en-US, en;q=0.5\"})"
   ]
  },
  {
   "cell_type": "code",
   "execution_count": 384,
   "metadata": {},
   "outputs": [
    {
     "data": {
      "text/plain": [
       "bs4.BeautifulSoup"
      ]
     },
     "execution_count": 384,
     "metadata": {},
     "output_type": "execute_result"
    }
   ],
   "source": [
    "soup =  BeautifulSoup(request.text, 'html.parser')\n",
    "type(soup)"
   ]
  },
  {
   "cell_type": "code",
   "execution_count": 385,
   "metadata": {},
   "outputs": [],
   "source": [
    "movies_data_container = soup.find_all('div', attrs = {'class': 'lister-item mode-advanced'})"
   ]
  },
  {
   "cell_type": "code",
   "execution_count": 403,
   "metadata": {},
   "outputs": [
    {
     "data": {
      "text/plain": [
       "'American Made'"
      ]
     },
     "execution_count": 403,
     "metadata": {},
     "output_type": "execute_result"
    }
   ],
   "source": [
    "movie_data_container[49].h3.a.text"
   ]
  },
  {
   "cell_type": "code",
   "execution_count": 387,
   "metadata": {},
   "outputs": [
    {
     "data": {
      "text/plain": [
       "'2017'"
      ]
     },
     "execution_count": 387,
     "metadata": {},
     "output_type": "execute_result"
    }
   ],
   "source": [
    "movies_data_container[0].h3.find('span', attrs = {'class': 'lister-item-year text-muted unbold'}).text.strip('()')\n",
    "#movie_data_container[0].h3.find('span', class_ = 'lister-item-year text-muted unbold').text"
   ]
  },
  {
   "cell_type": "code",
   "execution_count": 73,
   "metadata": {},
   "outputs": [
    {
     "data": {
      "text/plain": [
       "'8.1'"
      ]
     },
     "execution_count": 73,
     "metadata": {},
     "output_type": "execute_result"
    }
   ],
   "source": [
    "movies_data_container[0].strong.text"
   ]
  },
  {
   "cell_type": "code",
   "execution_count": 374,
   "metadata": {},
   "outputs": [
    {
     "data": {
      "text/plain": [
       "'77'"
      ]
     },
     "execution_count": 374,
     "metadata": {},
     "output_type": "execute_result"
    }
   ],
   "source": [
    "movie_data_container[0].find('div', attrs = {'class': 'ratings-metascore'}).text[1:3]\n"
   ]
  },
  {
   "cell_type": "code",
   "execution_count": 375,
   "metadata": {},
   "outputs": [
    {
     "data": {
      "text/plain": [
       "'671393'"
      ]
     },
     "execution_count": 375,
     "metadata": {},
     "output_type": "execute_result"
    }
   ],
   "source": [
    "movie_data_container[0].find('span', attrs = {'name': 'nv'}).text.replace(',', '')"
   ]
  },
  {
   "cell_type": "code",
   "execution_count": 408,
   "metadata": {},
   "outputs": [],
   "source": [
    "movie_name = []\n",
    "yor = []\n",
    "IMDB_r = []\n",
    "metascore = []\n",
    "total_votes = []\n",
    "\n",
    "for i in range(len(movies_data_container)):\n",
    "    if movie_data_container[i].find('div', attrs = {'class': 'ratings-metascore'}) != None:\n",
    "        movie_name.append(movies_data_container[i].h3.a.text)\n",
    "        yor.append((movies_data_container[i].h3.find('span', attrs = {'class': 'lister-item-year text-muted unbold'}).text.strip('()')))\n",
    "        IMDB_r.append(float(movies_data_container[i].strong.text))\n",
    "        metascore.append((movie_data_container[i].find('div', attrs = {'class': 'ratings-metascore'})).text[1:3])\n",
    "        total_votes.append(int(movies_data_container[i].find('span', attrs = {'name': 'nv'}).text.replace(',','')))\n",
    "    else:\n",
    "        movie_name.append(movies_data_container[i].h3.a.text)\n",
    "        yor.append((movies_data_container[i].h3.find('span', attrs = {'class': 'lister-item-year text-muted unbold'}).text.strip('()')))\n",
    "        IMDB_r.append(float(movies_data_container[i].strong.text))\n",
    "        metascore.append(None)\n",
    "        total_votes.append(int(movies_data_container[i].find('span', attrs = {'name': 'nv'}).text.replace(',','')))"
   ]
  },
  {
   "cell_type": "code",
   "execution_count": 418,
   "metadata": {},
   "outputs": [
    {
     "data": {
      "text/html": [
       "<div>\n",
       "<style scoped>\n",
       "    .dataframe tbody tr th:only-of-type {\n",
       "        vertical-align: middle;\n",
       "    }\n",
       "\n",
       "    .dataframe tbody tr th {\n",
       "        vertical-align: top;\n",
       "    }\n",
       "\n",
       "    .dataframe thead th {\n",
       "        text-align: right;\n",
       "    }\n",
       "</style>\n",
       "<table border=\"1\" class=\"dataframe\">\n",
       "  <thead>\n",
       "    <tr style=\"text-align: right;\">\n",
       "      <th></th>\n",
       "      <th>Name</th>\n",
       "      <th>Year</th>\n",
       "      <th>IMDB score</th>\n",
       "      <th>Votes</th>\n",
       "      <th>Metascore</th>\n",
       "    </tr>\n",
       "  </thead>\n",
       "  <tbody>\n",
       "    <tr>\n",
       "      <th>0</th>\n",
       "      <td>Logan</td>\n",
       "      <td>2017</td>\n",
       "      <td>8.1</td>\n",
       "      <td>671396</td>\n",
       "      <td>77</td>\n",
       "    </tr>\n",
       "    <tr>\n",
       "      <th>1</th>\n",
       "      <td>Thor: Ragnarok</td>\n",
       "      <td>2017</td>\n",
       "      <td>7.9</td>\n",
       "      <td>621834</td>\n",
       "      <td>74</td>\n",
       "    </tr>\n",
       "    <tr>\n",
       "      <th>2</th>\n",
       "      <td>Wonder Woman</td>\n",
       "      <td>2017</td>\n",
       "      <td>7.4</td>\n",
       "      <td>597480</td>\n",
       "      <td>76</td>\n",
       "    </tr>\n",
       "    <tr>\n",
       "      <th>3</th>\n",
       "      <td>Guardians of the Galaxy Vol. 2</td>\n",
       "      <td>2017</td>\n",
       "      <td>7.6</td>\n",
       "      <td>593007</td>\n",
       "      <td>67</td>\n",
       "    </tr>\n",
       "    <tr>\n",
       "      <th>4</th>\n",
       "      <td>Dunkirk</td>\n",
       "      <td>2017</td>\n",
       "      <td>7.8</td>\n",
       "      <td>579134</td>\n",
       "      <td>94</td>\n",
       "    </tr>\n",
       "  </tbody>\n",
       "</table>\n",
       "</div>"
      ],
      "text/plain": [
       "                             Name  Year  IMDB score   Votes Metascore\n",
       "0                           Logan  2017         8.1  671396        77\n",
       "1                  Thor: Ragnarok  2017         7.9  621834        74\n",
       "2                    Wonder Woman  2017         7.4  597480        76\n",
       "3  Guardians of the Galaxy Vol. 2  2017         7.6  593007        67\n",
       "4                         Dunkirk  2017         7.8  579134        94"
      ]
     },
     "execution_count": 418,
     "metadata": {},
     "output_type": "execute_result"
    }
   ],
   "source": [
    "df = pd.DataFrame(zip(movie_name, yor, IMDB_r, total_votes, metascore), columns = ['Name', 'Year', 'IMDB score', 'Votes', 'Metascore'])\n",
    "df.head()"
   ]
  },
  {
   "cell_type": "markdown",
   "metadata": {},
   "source": [
    "##  2010 - 2020 data  -  Top 1000 each year"
   ]
  },
  {
   "cell_type": "code",
   "execution_count": 746,
   "metadata": {},
   "outputs": [],
   "source": [
    "years = np.arange(2010, 2021, 1)\n",
    "title_counts = np.arange(1, 1001, 50)"
   ]
  },
  {
   "cell_type": "code",
   "execution_count": 747,
   "metadata": {},
   "outputs": [
    {
     "name": "stdout",
     "output_type": "stream",
     "text": [
      "Request: 220; Frequency: 2.521258592605591 requests/s\n"
     ]
    }
   ],
   "source": [
    "from IPython.core.display import clear_output\n",
    "req = 0\n",
    "movie_name = []\n",
    "yor = []\n",
    "IMDB_r = []\n",
    "metascore = []\n",
    "total_votes = []\n",
    "for year in years:\n",
    "    \n",
    "    time.sleep(np.random.randint(5, 18))\n",
    "    for tc in title_counts:\n",
    "        time.sleep(np.random.rand())\n",
    "        url = f'https://www.imdb.com/search/title/?release_date={year}-01-01,{year}-12-31&sort=num_votes,desc&start={tc}&ref_=adv_prv'\n",
    "        start = time.time()\n",
    "        request = requests.request('GET', url, headers = {\"Accept-Language\": \"en-US, en;q=0.5\"})\n",
    "        end = time.time()\n",
    "        soup =  BeautifulSoup(request.text, 'html.parser')\n",
    "        movies_data_container = soup.find_all('div', attrs = {'class': 'lister-item mode-advanced'})\n",
    "\n",
    "        for i in range(len(movies_data_container)):\n",
    "            if movie_data_container[i].find('div', attrs = {'class': 'ratings-metascore'}) != None:\n",
    "                movie_name.append(movies_data_container[i].h3.a.text)\n",
    "                yor.append((movies_data_container[i].h3.find('span', attrs = {'class': 'lister-item-year text-muted unbold'}).text.strip('()')))\n",
    "                IMDB_r.append(float(movies_data_container[i].strong.text))\n",
    "                metascore.append((movie_data_container[i].find('div', attrs = {'class': 'ratings-metascore'})).text[1:3])\n",
    "                total_votes.append(int(movies_data_container[i].find('span', attrs = {'name': 'nv'}).text.replace(',','')))\n",
    "            else:\n",
    "                movie_name.append(movies_data_container[i].h3.a.text)\n",
    "                yor.append((movies_data_container[i].h3.find('span', attrs = {'class': 'lister-item-year text-muted unbold'}).text.strip('()')))\n",
    "                IMDB_r.append(float(movies_data_container[i].strong.text))\n",
    "                metascore.append(None)\n",
    "                total_votes.append(int(movies_data_container[i].find('span', attrs = {'name': 'nv'}).text.replace(',','')))\n",
    "        req += 1\n",
    "        print(f'Request: {req}; Frequency: {end-start} requests/s')\n",
    "        clear_output(wait = True)"
   ]
  },
  {
   "cell_type": "code",
   "execution_count": null,
   "metadata": {},
   "outputs": [],
   "source": []
  },
  {
   "cell_type": "code",
   "execution_count": 758,
   "metadata": {},
   "outputs": [
    {
     "data": {
      "text/html": [
       "<div>\n",
       "<style scoped>\n",
       "    .dataframe tbody tr th:only-of-type {\n",
       "        vertical-align: middle;\n",
       "    }\n",
       "\n",
       "    .dataframe tbody tr th {\n",
       "        vertical-align: top;\n",
       "    }\n",
       "\n",
       "    .dataframe thead th {\n",
       "        text-align: right;\n",
       "    }\n",
       "</style>\n",
       "<table border=\"1\" class=\"dataframe\">\n",
       "  <thead>\n",
       "    <tr style=\"text-align: right;\">\n",
       "      <th></th>\n",
       "      <th>Name</th>\n",
       "      <th>Year</th>\n",
       "      <th>IMDB score</th>\n",
       "      <th>Votes</th>\n",
       "      <th>Metascore</th>\n",
       "    </tr>\n",
       "  </thead>\n",
       "  <tbody>\n",
       "    <tr>\n",
       "      <th>0</th>\n",
       "      <td>Inception</td>\n",
       "      <td>2010</td>\n",
       "      <td>8.8</td>\n",
       "      <td>2128303</td>\n",
       "      <td>77</td>\n",
       "    </tr>\n",
       "    <tr>\n",
       "      <th>1</th>\n",
       "      <td>Shutter Island</td>\n",
       "      <td>2010</td>\n",
       "      <td>8.2</td>\n",
       "      <td>1169467</td>\n",
       "      <td>74</td>\n",
       "    </tr>\n",
       "    <tr>\n",
       "      <th>2</th>\n",
       "      <td>The Walking Dead</td>\n",
       "      <td>2010–2022</td>\n",
       "      <td>8.2</td>\n",
       "      <td>877009</td>\n",
       "      <td>76</td>\n",
       "    </tr>\n",
       "    <tr>\n",
       "      <th>3</th>\n",
       "      <td>Sherlock</td>\n",
       "      <td>2010–2017</td>\n",
       "      <td>9.1</td>\n",
       "      <td>832609</td>\n",
       "      <td>67</td>\n",
       "    </tr>\n",
       "    <tr>\n",
       "      <th>4</th>\n",
       "      <td>Toy Story 3</td>\n",
       "      <td>2010</td>\n",
       "      <td>8.2</td>\n",
       "      <td>773734</td>\n",
       "      <td>94</td>\n",
       "    </tr>\n",
       "    <tr>\n",
       "      <th>...</th>\n",
       "      <td>...</td>\n",
       "      <td>...</td>\n",
       "      <td>...</td>\n",
       "      <td>...</td>\n",
       "      <td>...</td>\n",
       "    </tr>\n",
       "    <tr>\n",
       "      <th>10995</th>\n",
       "      <td>The Windermere Children</td>\n",
       "      <td>2020</td>\n",
       "      <td>7.2</td>\n",
       "      <td>2546</td>\n",
       "      <td>29</td>\n",
       "    </tr>\n",
       "    <tr>\n",
       "      <th>10996</th>\n",
       "      <td>Altered Carbon</td>\n",
       "      <td>2018–2020</td>\n",
       "      <td>6.4</td>\n",
       "      <td>2544</td>\n",
       "      <td>37</td>\n",
       "    </tr>\n",
       "    <tr>\n",
       "      <th>10997</th>\n",
       "      <td>Mr. Queen</td>\n",
       "      <td>2020–</td>\n",
       "      <td>8.9</td>\n",
       "      <td>2540</td>\n",
       "      <td>51</td>\n",
       "    </tr>\n",
       "    <tr>\n",
       "      <th>10998</th>\n",
       "      <td>Hightown</td>\n",
       "      <td>2020–</td>\n",
       "      <td>6.5</td>\n",
       "      <td>2535</td>\n",
       "      <td>None</td>\n",
       "    </tr>\n",
       "    <tr>\n",
       "      <th>10999</th>\n",
       "      <td>The Painter and the Thief</td>\n",
       "      <td>2020</td>\n",
       "      <td>7.6</td>\n",
       "      <td>2534</td>\n",
       "      <td>65</td>\n",
       "    </tr>\n",
       "  </tbody>\n",
       "</table>\n",
       "<p>11000 rows × 5 columns</p>\n",
       "</div>"
      ],
      "text/plain": [
       "                            Name       Year  IMDB score    Votes Metascore\n",
       "0                      Inception       2010         8.8  2128303        77\n",
       "1                 Shutter Island       2010         8.2  1169467        74\n",
       "2               The Walking Dead  2010–2022         8.2   877009        76\n",
       "3                       Sherlock  2010–2017         9.1   832609        67\n",
       "4                    Toy Story 3       2010         8.2   773734        94\n",
       "...                          ...        ...         ...      ...       ...\n",
       "10995    The Windermere Children       2020         7.2     2546        29\n",
       "10996             Altered Carbon  2018–2020         6.4     2544        37\n",
       "10997                  Mr. Queen     2020–          8.9     2540        51\n",
       "10998                   Hightown     2020–          6.5     2535      None\n",
       "10999  The Painter and the Thief       2020         7.6     2534        65\n",
       "\n",
       "[11000 rows x 5 columns]"
      ]
     },
     "execution_count": 758,
     "metadata": {},
     "output_type": "execute_result"
    }
   ],
   "source": [
    "df = pd.DataFrame(zip(movie_name, yor, IMDB_r, total_votes, metascore), columns = ['Name', 'Year', 'IMDB score', 'Votes', 'Metascore'])\n",
    "df"
   ]
  },
  {
   "cell_type": "code",
   "execution_count": 759,
   "metadata": {},
   "outputs": [
    {
     "name": "stdout",
     "output_type": "stream",
     "text": [
      "<class 'pandas.core.frame.DataFrame'>\n",
      "RangeIndex: 11000 entries, 0 to 10999\n",
      "Data columns (total 5 columns):\n",
      " #   Column      Non-Null Count  Dtype  \n",
      "---  ------      --------------  -----  \n",
      " 0   Name        11000 non-null  object \n",
      " 1   Year        11000 non-null  object \n",
      " 2   IMDB score  11000 non-null  float64\n",
      " 3   Votes       11000 non-null  int64  \n",
      " 4   Metascore   9240 non-null   object \n",
      "dtypes: float64(1), int64(1), object(3)\n",
      "memory usage: 300.8+ KB\n"
     ]
    }
   ],
   "source": [
    "df.info()"
   ]
  },
  {
   "cell_type": "code",
   "execution_count": 760,
   "metadata": {},
   "outputs": [
    {
     "data": {
      "text/html": [
       "<div>\n",
       "<style scoped>\n",
       "    .dataframe tbody tr th:only-of-type {\n",
       "        vertical-align: middle;\n",
       "    }\n",
       "\n",
       "    .dataframe tbody tr th {\n",
       "        vertical-align: top;\n",
       "    }\n",
       "\n",
       "    .dataframe thead th {\n",
       "        text-align: right;\n",
       "    }\n",
       "</style>\n",
       "<table border=\"1\" class=\"dataframe\">\n",
       "  <thead>\n",
       "    <tr style=\"text-align: right;\">\n",
       "      <th></th>\n",
       "      <th>Name</th>\n",
       "      <th>Year</th>\n",
       "      <th>IMDB score</th>\n",
       "      <th>Votes</th>\n",
       "      <th>Metascore</th>\n",
       "    </tr>\n",
       "  </thead>\n",
       "  <tbody>\n",
       "    <tr>\n",
       "      <th>3084</th>\n",
       "      <td>Breaking Bad</td>\n",
       "      <td>2008–2013</td>\n",
       "      <td>10.0</td>\n",
       "      <td>139268</td>\n",
       "      <td>None</td>\n",
       "    </tr>\n",
       "  </tbody>\n",
       "</table>\n",
       "</div>"
      ],
      "text/plain": [
       "               Name       Year  IMDB score   Votes Metascore\n",
       "3084   Breaking Bad  2008–2013        10.0  139268      None"
      ]
     },
     "execution_count": 760,
     "metadata": {},
     "output_type": "execute_result"
    }
   ],
   "source": [
    "df.loc[df['IMDB score'] == df['IMDB score'].max()]"
   ]
  },
  {
   "cell_type": "code",
   "execution_count": null,
   "metadata": {},
   "outputs": [],
   "source": []
  },
  {
   "cell_type": "code",
   "execution_count": null,
   "metadata": {},
   "outputs": [],
   "source": []
  },
  {
   "cell_type": "code",
   "execution_count": null,
   "metadata": {},
   "outputs": [],
   "source": []
  },
  {
   "cell_type": "code",
   "execution_count": null,
   "metadata": {},
   "outputs": [],
   "source": []
  },
  {
   "cell_type": "code",
   "execution_count": null,
   "metadata": {},
   "outputs": [],
   "source": []
  },
  {
   "cell_type": "code",
   "execution_count": null,
   "metadata": {},
   "outputs": [],
   "source": []
  },
  {
   "cell_type": "code",
   "execution_count": null,
   "metadata": {},
   "outputs": [],
   "source": []
  },
  {
   "cell_type": "code",
   "execution_count": null,
   "metadata": {},
   "outputs": [],
   "source": []
  },
  {
   "cell_type": "code",
   "execution_count": null,
   "metadata": {},
   "outputs": [],
   "source": []
  },
  {
   "cell_type": "code",
   "execution_count": null,
   "metadata": {},
   "outputs": [],
   "source": []
  },
  {
   "cell_type": "code",
   "execution_count": 980,
   "metadata": {},
   "outputs": [],
   "source": [
    "import bs4\n",
    "from bs4 import BeautifulSoup\n",
    "import csv\n",
    "import requests\n",
    "import time\n",
    "import pandas as pd\n",
    "import urllib\n",
    "import re\n",
    "import pickle\n",
    "import datetime\n",
    "import numpy as np"
   ]
  },
  {
   "cell_type": "code",
   "execution_count": 992,
   "metadata": {},
   "outputs": [
    {
     "name": "stdout",
     "output_type": "stream",
     "text": [
      "Request: 3; Response Time : 1.7954003810882568 s\n",
      "03-2009\n",
      "http://www.estesparkweather.net/archive_reports.php?date=200903\n"
     ]
    }
   ],
   "source": [
    "from IPython.core.display import clear_output\n",
    "Average_temperature = []; Average_humidity = []; Average_dewpoint = []; Average_barometer = []; Average_windspeed = []; Average_gustspeed = []; Average_direction = []; Rainfall_for_month = []; \n",
    "Rainfall_for_year = []; Maximum_rain_per_minute = []; Maximum_temperature = []; Minimum_temperature = []; Maximum_humidity = []; Minimum_humidity = []; Maximum_pressure = []; Minimum_pressure = []; \n",
    "Maximum_windspeed = []; Maximum_gust_speed = []; Maximum_heat_index = []\n",
    "req = 0; rtables = []; date = []\n",
    "\n",
    "start_time = pd.to_datetime('2009-01-01')\n",
    "end_time = pd.to_datetime('2009-10-28')\n",
    "#print(start_time.date())\n",
    "#print(end_time.date())\n",
    "\n",
    "for year in range(start_time.year, end_time.year+1, 1):\n",
    "    for month in ['{}'.format(x) for x in range(start_time.month, 4, 1)]:\n",
    "        if len(month) < 2:\n",
    "            month = '0'+month\n",
    "            url = 'http://www.estesparkweather.net/archive_reports.php?date={}{}'.format(year, month)\n",
    "        else:\n",
    "            month = month\n",
    "            url = 'http://www.estesparkweather.net/archive_reports.php?date={}{}'.format(year, month)\n",
    "            \n",
    "        #time.sleep(np.random.randint(2, 6))\n",
    "        \n",
    "        start = time.time()\n",
    "        request = requests.request('GET', url, headers = {\"Accept-Language\": \"en-US\"})\n",
    "        end = time.time()\n",
    "        \n",
    "        soup = BeautifulSoup(request.text, 'html.parser')\n",
    "        raw_tables = soup.find_all('table')\n",
    "\n",
    "        for raw_table in raw_tables:\n",
    "            #  taking only useful contents\n",
    "            ls_raw_table = raw_table.find_all('td')[0]\n",
    "            if 'for Month of' in (ls_raw_table.text):\n",
    "                break\n",
    "            else:\n",
    "                rtables.append(raw_table)\n",
    "\n",
    "        for rtable in rtables:\n",
    "            variables_raw = []\n",
    "            data = []\n",
    "            raw_date = ''\n",
    "            table = (rtable.find_all('td'))\n",
    "            #print(table)\n",
    "            if len(raw_date) == 0:\n",
    "                    raw_date = (table[0].text)\n",
    "                    raw_date = (raw_date.split(' '))\n",
    "                    rdate = \"{}/{}/{}\".format(raw_date[0], raw_date[1], year)\n",
    "                    if rdate not in ['Feb/29/2017', 'Feb/29/2018']:\n",
    "                        date_ = pd.to_datetime(rdate).strftime('%Y-%m-%d')\n",
    "                        date += [date_]\n",
    "            \n",
    "            for i in range(1, len(table)):\n",
    "                break\n",
    "                \n",
    "            \n",
    "            \n",
    "            \n",
    "            \n",
    "            for i in range(1, len(table)):\n",
    "                break\n",
    "                if len(raw_date) == 0:\n",
    "                    raw_date = (table[0].text)\n",
    "                    raw_date = (raw_date.split(' '))\n",
    "                    rdate = \"{}/{}/{}\".format(raw_date[0], raw_date[1], year)\n",
    "                    if rdate not in ['Feb/29/2017', 'Feb/29/2018']:\n",
    "                        date_ = pd.to_datetime(rdate).strftime('%Y-%m-%d')\n",
    "                        date += [date_]\n",
    "                        \n",
    "                \n",
    "                if rdate not in ['Feb/29/2017', 'Feb/29/2018']:\n",
    "                    if i % 2 == 0:\n",
    "                        if '.' in table[i].text and table[i].text not in ['', ' ']:\n",
    "                            match = re.search(r\"\\s\\d*.\\d*\", table[i].text)\n",
    "                            value = match.group().lstrip()\n",
    "                            data.append(float(value))\n",
    "                        else:\n",
    "                            match = re.search(r\"\\s\\d*\", table[i].text)\n",
    "                            value = match.group().lstrip()\n",
    "                            if value not in ['', ' ']:\n",
    "                                data.append(int(value))\n",
    "                            else:\n",
    "                                data.append(0)\n",
    "                    else:\n",
    "                        variables_raw.append('_'.join(table[i].text.split()))\n",
    "\n",
    "            for v, d in zip(variables_raw, data):\n",
    "                break\n",
    "                if v == 'Average_temperature':\n",
    "                    exec(\"{}.append({})\".format(v, 'd'))\n",
    "                if v == 'Average_humidity':\n",
    "                    exec(\"{}.append({})\".format(v, 'd'))\n",
    "                if v == 'Average_dewpoint':\n",
    "                    exec(\"{}.append({})\".format(v, 'd'))\n",
    "                if v == 'Average_barometer':\n",
    "                    exec(\"{}.append({})\".format(v, 'd'))\n",
    "                if v == 'Average_windspeed':\n",
    "                    exec(\"{}.append({})\".format(v, 'd'))\n",
    "                if v == 'Average_gustspeed':\n",
    "                    exec(\"{}.append({})\".format(v, 'd'))\n",
    "                if v == 'Average_direction':\n",
    "                    exec(\"{}.append({})\".format(v, 'd'))\n",
    "                if v == 'Rainfall_for_month':\n",
    "                    exec(\"{}.append({})\".format(v, 'd'))\n",
    "                if v == 'Rainfall_for_year':\n",
    "                    exec(\"{}.append({})\".format(v, 'd'))\n",
    "                if v == 'Maximum_rain_per_minute':\n",
    "                    exec(\"{}.append({})\".format(v, 'd'))\n",
    "                if v == 'Maximum_temperature':\n",
    "                    exec(\"{}.append({})\".format(v, 'd'))\n",
    "                if v == 'Minimum_temperature':\n",
    "                    exec(\"{}.append({})\".format(v, 'd'))\n",
    "                if v == 'Maximum_humidity':\n",
    "                    exec(\"{}.append({})\".format(v, 'd'))\n",
    "                if v == 'Minimum_humidity':\n",
    "                    exec(\"{}.append({})\".format(v, 'd'))\n",
    "                if v == 'Maximum_pressure':\n",
    "                    exec(\"{}.append({})\".format(v, 'd'))\n",
    "                if v == 'Minimum_pressure':\n",
    "                    exec(\"{}.append({})\".format(v, 'd'))\n",
    "                if v == 'Maximum_windspeed':\n",
    "                    exec(\"{}.append({})\".format(v, 'd'))\n",
    "                if v == 'Maximum_gust_speed':\n",
    "                    exec(\"{}.append({})\".format(v, 'd'))\n",
    "                if v == 'Maximum_heat_index':\n",
    "                    exec(\"{}.append({})\".format(v, 'd'))\n",
    "        #print(len(date))\n",
    "        req += 1\n",
    "        print('Request: {}; Response Time : {} s'.format(req, end-start))\n",
    "        print('{}-{}'.format(month, year))\n",
    "        print(url)\n",
    "        clear_output(wait = True)"
   ]
  },
  {
   "cell_type": "code",
   "execution_count": 989,
   "metadata": {
    "collapsed": true
   },
   "outputs": [
    {
     "name": "stdout",
     "output_type": "stream",
     "text": [
      "177\n",
      "2009-01-01\n",
      "2009-01-02\n",
      "2009-01-03\n",
      "2009-01-04\n",
      "2009-01-05\n",
      "2009-01-06\n",
      "2009-01-07\n",
      "2009-01-08\n",
      "2009-01-09\n",
      "2009-01-10\n",
      "2009-01-11\n",
      "2009-01-12\n",
      "2009-01-13\n",
      "2009-01-14\n",
      "2009-01-15\n",
      "2009-01-16\n",
      "2009-01-17\n",
      "2009-01-18\n",
      "2009-01-19\n",
      "2009-01-20\n",
      "2009-01-21\n",
      "2009-01-22\n",
      "2009-01-23\n",
      "2009-01-24\n",
      "2009-01-25\n",
      "2009-01-26\n",
      "2009-01-27\n",
      "2009-01-28\n",
      "2009-01-29\n",
      "2009-01-30\n",
      "2009-01-31\n",
      "2009-01-01\n",
      "2009-01-02\n",
      "2009-01-03\n",
      "2009-01-04\n",
      "2009-01-05\n",
      "2009-01-06\n",
      "2009-01-07\n",
      "2009-01-08\n",
      "2009-01-09\n",
      "2009-01-10\n",
      "2009-01-11\n",
      "2009-01-12\n",
      "2009-01-13\n",
      "2009-01-14\n",
      "2009-01-15\n",
      "2009-01-16\n",
      "2009-01-17\n",
      "2009-01-18\n",
      "2009-01-19\n",
      "2009-01-20\n",
      "2009-01-21\n",
      "2009-01-22\n",
      "2009-01-23\n",
      "2009-01-24\n",
      "2009-01-25\n",
      "2009-01-26\n",
      "2009-01-27\n",
      "2009-01-28\n",
      "2009-01-29\n",
      "2009-01-30\n",
      "2009-01-31\n",
      "2009-02-01\n",
      "2009-02-02\n",
      "2009-02-03\n",
      "2009-02-04\n",
      "2009-02-05\n",
      "2009-02-06\n",
      "2009-02-07\n",
      "2009-02-08\n",
      "2009-02-09\n",
      "2009-02-10\n",
      "2009-02-11\n",
      "2009-02-12\n",
      "2009-02-13\n",
      "2009-02-14\n",
      "2009-02-15\n",
      "2009-02-16\n",
      "2009-02-17\n",
      "2009-02-18\n",
      "2009-02-19\n",
      "2009-02-20\n",
      "2009-02-21\n",
      "2009-02-22\n",
      "2009-02-23\n",
      "2009-02-24\n",
      "2009-02-25\n",
      "2009-02-26\n",
      "2009-02-27\n",
      "2009-02-28\n",
      "2009-01-01\n",
      "2009-01-02\n",
      "2009-01-03\n",
      "2009-01-04\n",
      "2009-01-05\n",
      "2009-01-06\n",
      "2009-01-07\n",
      "2009-01-08\n",
      "2009-01-09\n",
      "2009-01-10\n",
      "2009-01-11\n",
      "2009-01-12\n",
      "2009-01-13\n",
      "2009-01-14\n",
      "2009-01-15\n",
      "2009-01-16\n",
      "2009-01-17\n",
      "2009-01-18\n",
      "2009-01-19\n",
      "2009-01-20\n",
      "2009-01-21\n",
      "2009-01-22\n",
      "2009-01-23\n",
      "2009-01-24\n",
      "2009-01-25\n",
      "2009-01-26\n",
      "2009-01-27\n",
      "2009-01-28\n",
      "2009-01-29\n",
      "2009-01-30\n",
      "2009-01-31\n",
      "2009-02-01\n",
      "2009-02-02\n",
      "2009-02-03\n",
      "2009-02-04\n",
      "2009-02-05\n",
      "2009-02-06\n",
      "2009-02-07\n",
      "2009-02-08\n",
      "2009-02-09\n",
      "2009-02-10\n",
      "2009-02-11\n",
      "2009-02-12\n",
      "2009-02-13\n",
      "2009-02-14\n",
      "2009-02-15\n",
      "2009-02-16\n",
      "2009-02-17\n",
      "2009-02-18\n",
      "2009-02-19\n",
      "2009-02-20\n",
      "2009-02-21\n",
      "2009-02-22\n",
      "2009-02-23\n",
      "2009-02-24\n",
      "2009-02-25\n",
      "2009-02-26\n",
      "2009-02-27\n",
      "2009-02-28\n",
      "2009-03-01\n",
      "2009-03-02\n",
      "2009-03-03\n",
      "2009-03-04\n",
      "2009-03-05\n",
      "2009-03-06\n",
      "2009-03-07\n",
      "2009-03-08\n",
      "2009-03-09\n",
      "2009-03-10\n",
      "2009-03-11\n",
      "2009-03-12\n",
      "2009-03-16\n",
      "2009-03-17\n",
      "2009-03-18\n",
      "2009-03-19\n",
      "2009-03-20\n",
      "2009-03-21\n",
      "2009-03-22\n",
      "2009-03-23\n",
      "2009-03-24\n",
      "2009-03-25\n",
      "2009-03-26\n",
      "2009-03-27\n",
      "2009-03-28\n",
      "2009-03-29\n",
      "2009-03-30\n",
      "2009-03-31\n"
     ]
    }
   ],
   "source": [
    "print(len(Average_temperature))\n",
    "x = [print(x) for x in date]"
   ]
  },
  {
   "cell_type": "code",
   "execution_count": 991,
   "metadata": {},
   "outputs": [
    {
     "data": {
      "text/plain": [
       "[<td colspan=\"2\">Mar 31 Average and Extremes</td>,\n",
       " <td>Average temperature</td>,\n",
       " <td> 25.8 °F</td>,\n",
       " <td>Average humidity</td>,\n",
       " <td> 40 %</td>,\n",
       " <td>Average dewpoint</td>,\n",
       " <td> 4.5 °F</td>,\n",
       " <td>Average barometer</td>,\n",
       " <td> 29.8 in.</td>,\n",
       " <td>Average windspeed</td>,\n",
       " <td> 16.1 mph</td>,\n",
       " <td>Average gustspeed</td>,\n",
       " <td> 23.2 mph</td>,\n",
       " <td>Average direction</td>,\n",
       " <td> 266 ° ( W )</td>,\n",
       " <td>Rainfall for month</td>,\n",
       " <td> 0.40 in.</td>,\n",
       " <td>Rainfall for year</td>,\n",
       " <td> 0.64 in.</td>,\n",
       " <td>Maximum rain per minute</td>,\n",
       " <td> 0.00 in. on day 31 at time 23:53</td>,\n",
       " <td>Maximum temperature</td>,\n",
       " <td> 33.4 °F on day 31 at time 15:05</td>,\n",
       " <td>Minimum temperature</td>,\n",
       " <td> 17.6 °F on day 30 at time 01:03</td>,\n",
       " <td>Maximum humidity</td>,\n",
       " <td> 69 % on day 31 at time 23:53</td>,\n",
       " <td>Minimum humidity</td>,\n",
       " <td> 27 % on day 31 at time 15:18</td>,\n",
       " <td>Maximum pressure</td>,\n",
       " <td> 29.977  in. on day 31 at time 02:30</td>,\n",
       " <td>Minimum pressure</td>,\n",
       " <td> 29.661  in. on day 31 at time 23:53</td>,\n",
       " <td>Maximum windspeed</td>,\n",
       " <td> 38.0 mph on day 31 at time 17:29</td>,\n",
       " <td>Maximum gust speed</td>,\n",
       " <td> 51 mph  from 248 °(WSW)  on day 31 at time 10:27</td>,\n",
       " <td>Maximum heat index</td>,\n",
       " <td> 33.4 °F on day 31 at time 15:05</td>]"
      ]
     },
     "execution_count": 991,
     "metadata": {},
     "output_type": "execute_result"
    }
   ],
   "source": [
    "table"
   ]
  },
  {
   "cell_type": "code",
   "execution_count": null,
   "metadata": {},
   "outputs": [],
   "source": []
  },
  {
   "cell_type": "code",
   "execution_count": null,
   "metadata": {},
   "outputs": [],
   "source": []
  },
  {
   "cell_type": "code",
   "execution_count": null,
   "metadata": {},
   "outputs": [],
   "source": []
  },
  {
   "cell_type": "code",
   "execution_count": null,
   "metadata": {},
   "outputs": [],
   "source": []
  },
  {
   "cell_type": "code",
   "execution_count": null,
   "metadata": {},
   "outputs": [],
   "source": []
  },
  {
   "cell_type": "code",
   "execution_count": null,
   "metadata": {},
   "outputs": [],
   "source": []
  },
  {
   "cell_type": "code",
   "execution_count": null,
   "metadata": {},
   "outputs": [],
   "source": []
  },
  {
   "cell_type": "code",
   "execution_count": null,
   "metadata": {},
   "outputs": [],
   "source": []
  },
  {
   "cell_type": "code",
   "execution_count": null,
   "metadata": {},
   "outputs": [],
   "source": []
  },
  {
   "cell_type": "code",
   "execution_count": null,
   "metadata": {},
   "outputs": [],
   "source": []
  },
  {
   "cell_type": "code",
   "execution_count": null,
   "metadata": {},
   "outputs": [],
   "source": []
  }
 ],
 "metadata": {
  "kernelspec": {
   "display_name": "Python 3",
   "language": "python",
   "name": "python3"
  },
  "language_info": {
   "codemirror_mode": {
    "name": "ipython",
    "version": 3
   },
   "file_extension": ".py",
   "mimetype": "text/x-python",
   "name": "python",
   "nbconvert_exporter": "python",
   "pygments_lexer": "ipython3",
   "version": "3.8.5"
  }
 },
 "nbformat": 4,
 "nbformat_minor": 4
}
